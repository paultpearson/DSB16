{
 "cells": [
  {
   "cell_type": "markdown",
   "metadata": {},
   "source": [
    "# Working Through the Left Ventricle Segmentation Tutorial\n",
    "\n",
    "This is an attempt to work through the [Fourier based tutorial](https://www.kaggle.com/c/second-annual-data-science-bowl/details/fourier-based-tutorial) that uses image segmentation and Fourier analysis to select the most important parts of the heart MRI images.\n",
    "\n",
    "- Link to the Left Ventricle Segmentation Tutorial as a [GitHub Gist](https://gist.github.com/ajsander/fb2350535c737443c4e0#file-tutorial-md) or the [post on the Kaggle website](https://www.kaggle.com/c/second-annual-data-science-bowl/details/fourier-based-tutorial).\n",
    "\n",
    "\n",
    "- All of the Python code for the tutorial is in the file [segment.py](https://raw.githubusercontent.com/booz-allen-hamilton/DSB2/master/segment.py) on the [booz-allen-hamilton/DSB2 github website](https://github.com/booz-allen-hamilton/DSB2)\n",
    "\n",
    "\n",
    "- The method in the tutorial is based on the article \"Automated Detection of Left Ventricle in 4D MR Images: Experience from a Large Study\" by [Lin, et al. (2006)](https://www.researchgate.net/publication/6452142_Automated_Detection_of_Left_Ventricle_in_4D_MR_Images_Experience_from_a_Large_Study)\n"
   ]
  },
  {
   "cell_type": "markdown",
   "metadata": {},
   "source": [
    "## Software to install\n",
    "\n",
    "To get the tutorial to run, I needed to install the following software on Windows 7 Professional.  The links below should provide good instructions.  **Please see me if you need help.**\n",
    "\n",
    "- [Jupyter and Anaconda Python](http://jupyter.readthedocs.org/en/latest/install.html#new-to-python-and-jupyter)\n",
    "\n",
    "\n",
    "- The tutorial I used to get OpenCV to work on Windows 7 is [OpenCV (Open Computer Vision) installation on Windows for use as a Python package](http://mathalope.co.uk/2015/05/07/opencv-python-how-to-install-opencv-python-package-to-anaconda-windows/).  If you know how to create and modify environment variables, I encourage you to complete the section on installing FFMPEG.  If not, you **might not need to install the FFMPEG (video codec)** since we are processing images (not videos).  Note: There are [other ways to install OpenCV given on StackOverflow](http://stackoverflow.com/questions/23119413/how-to-install-python-opencv-through-conda)\n",
    "\n",
    "\n",
    "- The pydicom package for python to read dicom image files can be installed running the following command at the windows command prompt.\n",
    "\n",
    "    `pip install pydicom`\n",
    "    \n",
    "\n",
    "- [Mango desktop dicom file viewer for Windows](http://ric.uthscsa.edu/mango/mango.html)"
   ]
  },
  {
   "cell_type": "markdown",
   "metadata": {},
   "source": [
    "## Abbreviations and definitions of terms used in the tutorial\n",
    "\n",
    "- LV = Left Ventricle\n",
    "\n",
    "- Image segmentation: \"The goal of image segmentation is to divide an image into a set of semantically meaningful, homogeneous, and nonoverlapping regions of similar attributes such as intensity, depth, color, or texture. The segmentation result is either an image of labels identifying each homogeneous region or a set of contours which describe the region boundaries.\" [MRI Segmentation of the Human Brain: Challenges, Methods, and Applications](http://www.hindawi.com/journals/cmmm/2015/450341/)\n",
    "\n",
    "- ROI = Region Of Interest in the image, usually circular\n",
    "\n",
    "- Short axis stack: The [University of Minnesota Atlas of Cardiac Anatomy](http://www.vhlab.umn.edu/atlas/cardiac-mri/index.shtml) has a [brief description of the short axis stack along with a drop down menu allowing you to choose different hearts to view](http://www.vhlab.umn.edu/atlas/cardiac-mri/short-axis-stack/index.shtml).  They say \"A short axis stack shows the complete series of images taken during an MRI stack sequence scan. These images are taken at 1-4mm intervals in a plane perpendicular to the long axis of the left ventricle.\"\n"
   ]
  },
  {
   "cell_type": "markdown",
   "metadata": {},
   "source": [
    "## Load packages into python"
   ]
  },
  {
   "cell_type": "code",
   "execution_count": 1,
   "metadata": {
    "collapsed": true
   },
   "outputs": [],
   "source": [
    "#\n",
    "# segment.py\n",
    "#\n",
    "import cv2\n",
    "import numpy as np\n",
    "import dicom\n",
    "import json\n",
    "import os\n",
    "import shutil\n",
    "import sys\n",
    "import random\n",
    "from matplotlib import image\n",
    "from scipy.ndimage import label\n",
    "from scipy.ndimage.morphology import binary_erosion\n",
    "from scipy.fftpack import fftn, ifftn\n",
    "from scipy.signal import argrelmin, correlate\n",
    "from scipy.spatial.distance import euclidean\n",
    "from scipy.stats import linregress\n",
    "from scipy.optimize import curve_fit\n",
    "from scipy.interpolate import UnivariateSpline"
   ]
  },
  {
   "cell_type": "markdown",
   "metadata": {},
   "source": [
    "## Set some parameters"
   ]
  },
  {
   "cell_type": "code",
   "execution_count": 2,
   "metadata": {
    "collapsed": true
   },
   "outputs": [],
   "source": [
    "# number of bins to use in histogram for gaussian regression\n",
    "NUM_BINS = 100\n",
    "\n",
    "# number of standard deviations past which we will consider a pixel an outlier\n",
    "STD_MULTIPLIER = 2\n",
    "\n",
    "# number of points of our interpolated dataset to consider when searching for\n",
    "# a threshold value; the function by default is interpolated over 1000 points,\n",
    "# so 250 will look at the half of the points that is centered around the known\n",
    "# myocardium pixel\n",
    "THRESHOLD_AREA = 250\n",
    "\n",
    "# number of pixels on the line within which to search for a connected component\n",
    "# in a thresholded image, increase this to look for components further away\n",
    "COMPONENT_INDEX_TOLERANCE = 20\n",
    "\n",
    "# number of angles to search when looking for the correct orientation\n",
    "ANGLE_SLICES = 36"
   ]
  },
  {
   "cell_type": "markdown",
   "metadata": {},
   "source": [
    "## Construct a status log function"
   ]
  },
  {
   "cell_type": "code",
   "execution_count": 3,
   "metadata": {
    "collapsed": true
   },
   "outputs": [],
   "source": [
    "# status log\n",
    "def log(msg, lvl):\n",
    "    string = \"\"\n",
    "    for i in range(lvl):\n",
    "        string += \" \"\n",
    "    string += msg\n",
    "    print string"
   ]
  },
  {
   "cell_type": "markdown",
   "metadata": {
    "collapsed": true
   },
   "source": [
    "## Load data"
   ]
  },
  {
   "cell_type": "code",
   "execution_count": null,
   "metadata": {
    "collapsed": true
   },
   "outputs": [],
   "source": []
  }
 ],
 "metadata": {
  "kernelspec": {
   "display_name": "Python 2",
   "language": "python",
   "name": "python2"
  },
  "language_info": {
   "codemirror_mode": {
    "name": "ipython",
    "version": 2
   },
   "file_extension": ".py",
   "mimetype": "text/x-python",
   "name": "python",
   "nbconvert_exporter": "python",
   "pygments_lexer": "ipython2",
   "version": "2.7.11"
  }
 },
 "nbformat": 4,
 "nbformat_minor": 0
}
